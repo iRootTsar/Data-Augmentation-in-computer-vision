{
 "cells": [
  {
   "attachments": {},
   "cell_type": "markdown",
   "metadata": {},
   "source": [
    "### This code is used to check and test images on a classifier. However, the classifier only classifies correctly 50% of the time. This is because the transformation from numpy arrays to PNG images can affect the quality and colors of the images, resulting in the input images not being exactly the same as the ones used for testing."
   ]
  },
  {
   "cell_type": "code",
   "execution_count": 1,
   "metadata": {},
   "outputs": [],
   "source": [
    "import torch\n",
    "from torchvision.transforms import Compose, ToTensor\n",
    "from PIL import Image\n",
    "import sys\n",
    "from pathlib import Path\n",
    "import os"
   ]
  },
  {
   "cell_type": "code",
   "execution_count": 5,
   "metadata": {},
   "outputs": [],
   "source": [
    "def preprocess_image(input_image: Image.Image):\n",
    "    transforms = Compose([\n",
    "        ToTensor()\n",
    "    ])\n",
    "    img_tensor = transforms(input_image)\n",
    "    img_tensor = img_tensor.unsqueeze(0)\n",
    "    return img_tensor\n",
    "\n",
    "# Constructs a path to a directory that contains dataloader.py and plotCreator.py\n",
    "module_path = str(Path.cwd().parents[0] / \"methods\")\n",
    "\n",
    "# Checks to see if the directory is already in sys.path to avoid adding it multiple times.\n",
    "if module_path not in sys.path:\n",
    "    sys.path.append(module_path)\n",
    "import nnmodel\n",
    "\n",
    "model = nnmodel.VGGNet2(0.5)\n",
    "model_path = os.path.join(os.getcwd(), \"models\", \"best_model3.pth\")\n",
    "model.load_state_dict(torch.load(model_path))\n",
    "model.eval()\n",
    "\n",
    "\n",
    "def predict(input_image: Image.Image):\n",
    "    img_tensor = preprocess_image(input_image)\n",
    "    with torch.no_grad():\n",
    "        output = model(img_tensor)\n",
    "        _, prediction = torch.max(output, 1)\n",
    "    \n",
    "    class_label = \"Black Hole\" if prediction.item() == 0 else \"Sphaleron\"\n",
    "    return class_label"
   ]
  },
  {
   "cell_type": "code",
   "execution_count": 6,
   "metadata": {},
   "outputs": [],
   "source": [
    "def predict_all_images_in_folder(folder_path: str):\n",
    "    file_names = os.listdir(folder_path)\n",
    "    results = {\"True Black Hole\": 0, \"True Sphaleron\": 0, \"False Black Hole\": 0, \"False Sphaleron\": 0}\n",
    "\n",
    "    for file_name in file_names:\n",
    "        if file_name.endswith(\".png\"):\n",
    "            image_path = os.path.join(folder_path, file_name)\n",
    "            image = Image.open(image_path)\n",
    "            prediction = predict(image)\n",
    "\n",
    "            if \"bh\" in file_name:\n",
    "                if prediction == \"Black Hole\":\n",
    "                    results[\"True Black Hole\"] += 1\n",
    "                else:\n",
    "                    results[\"False Sphaleron\"] += 1\n",
    "            elif \"sph\" in file_name:\n",
    "                if prediction == \"Sphaleron\":\n",
    "                    results[\"True Sphaleron\"] += 1\n",
    "                else:\n",
    "                    results[\"False Black Hole\"] += 1\n",
    "\n",
    "    return results"
   ]
  },
  {
   "cell_type": "code",
   "execution_count": 7,
   "metadata": {},
   "outputs": [
    {
     "name": "stdout",
     "output_type": "stream",
     "text": [
      "Confusion Matrix:\n",
      "{'True Black Hole': 100, 'False Black Hole': 100, 'True Sphaleron': 0, 'False Sphaleron': 0}\n"
     ]
    }
   ],
   "source": [
    "current_directory = os.getcwd()\n",
    "blackhole_folder_path = os.path.join(current_directory, 'output', 'black_holes')\n",
    "sphaleron_folder_path = os.path.join(current_directory, 'output', 'sphalerons')\n",
    "\n",
    "black_hole_results = predict_all_images_in_folder(blackhole_folder_path)\n",
    "sphaleron_results = predict_all_images_in_folder(sphaleron_folder_path)\n",
    "\n",
    "def calculate_confusion_matrix(blackhole_folder_path, sphaleron_folder_path):\n",
    "    black_hole_results = predict_all_images_in_folder(blackhole_folder_path)\n",
    "    sphaleron_results = predict_all_images_in_folder(sphaleron_folder_path)\n",
    "\n",
    "    confusion_matrix = {\n",
    "        \"True Black Hole\": black_hole_results[\"True Black Hole\"],\n",
    "        \"False Black Hole\": sphaleron_results[\"False Black Hole\"],\n",
    "        \"True Sphaleron\": sphaleron_results[\"True Sphaleron\"],\n",
    "        \"False Sphaleron\": black_hole_results[\"False Sphaleron\"]\n",
    "    }\n",
    "\n",
    "    return confusion_matrix\n",
    "\n",
    "confusion_matrix = calculate_confusion_matrix(blackhole_folder_path, sphaleron_folder_path)\n",
    "\n",
    "print(\"Confusion Matrix:\")\n",
    "print(confusion_matrix)"
   ]
  }
 ],
 "metadata": {
  "kernelspec": {
   "display_name": "DAT191-gpu_20230411",
   "language": "python",
   "name": "python3"
  },
  "language_info": {
   "codemirror_mode": {
    "name": "ipython",
    "version": 3
   },
   "file_extension": ".py",
   "mimetype": "text/x-python",
   "name": "python",
   "nbconvert_exporter": "python",
   "pygments_lexer": "ipython3",
   "version": "3.9.16"
  },
  "orig_nbformat": 4
 },
 "nbformat": 4,
 "nbformat_minor": 2
}
