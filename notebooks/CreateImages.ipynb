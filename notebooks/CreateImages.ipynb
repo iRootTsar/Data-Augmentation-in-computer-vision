{
 "cells": [
  {
   "cell_type": "code",
   "execution_count": 12,
   "metadata": {},
   "outputs": [],
   "source": [
    "import numpy as np\n",
    "from pathlib import Path\n",
    "import sys\n",
    "from PIL import Image\n",
    "import os\n",
    "\n",
    "import torchvision.transforms as transforms"
   ]
  },
  {
   "cell_type": "code",
   "execution_count": 13,
   "metadata": {},
   "outputs": [],
   "source": [
    "# Constructs a path to a directory that contains dataloader.py and plotCreator.py\n",
    "module_path = str(Path.cwd().parents[0] / \"methods\")\n",
    "\n",
    "# Checks to see if the directory is already in sys.path to avoid adding it multiple times.\n",
    "if module_path not in sys.path:\n",
    "    sys.path.append(module_path)\n",
    "\n",
    "# Imports all the functions defined in the dataloader.py\n",
    "from dataloader import *\n",
    "\n",
    "# Creates two file paths pointing to two HDF5 files\n",
    "data_path0 = str(Path.cwd().parents[0] / \"data\" / \"BH_n4_M10_res50_15000_events.h5\")\n",
    "data_path1 = str(Path.cwd().parents[0] / \"data\" / \"PP13-Sphaleron-THR9-FRZ15-NB0-NSUBPALL_res50_15000_events.h5\")\n",
    "\n",
    "# Reads the two HDF5 data files and creates two NumPy arrays\n",
    "bhArray = dataToArray(data_path0)\n",
    "sphArray = dataToArray(data_path1)"
   ]
  },
  {
   "cell_type": "code",
   "execution_count": 14,
   "metadata": {},
   "outputs": [],
   "source": [
    "def save_images(bh_images, sph_images):\n",
    "    bh_folder = \"black_holes\"\n",
    "    sph_folder = \"sphalerons\"\n",
    "\n",
    "    if not os.path.exists(bh_folder):\n",
    "        os.makedirs(bh_folder)\n",
    "\n",
    "    if not os.path.exists(sph_folder):\n",
    "        os.makedirs(sph_folder)\n",
    "\n",
    "    for idx, img in enumerate(bh_images):\n",
    "        image = Image.fromarray(np.uint8(np.moveaxis(img, 0, -1)))  # Convert (C, H, W) to (H, W, C)\n",
    "        image.save(f\"{bh_folder}/black_hole_{idx + 1}.png\")\n",
    "        \n",
    "    for idx, img in enumerate(sph_images):\n",
    "        image = Image.fromarray(np.uint8(np.moveaxis(img, 0, -1)))  # Convert (C, H, W) to (H, W, C)\n",
    "        image.save(f\"{sph_folder}/sphaleron_{idx + 1}.png\")\n"
   ]
  },
  {
   "cell_type": "code",
   "execution_count": 19,
   "metadata": {},
   "outputs": [
    {
     "ename": "TypeError",
     "evalue": "Cannot handle this data type: (1, 1, 50), |u1",
     "output_type": "error",
     "traceback": [
      "\u001b[1;31m---------------------------------------------------------------------------\u001b[0m",
      "\u001b[1;31mKeyError\u001b[0m                                  Traceback (most recent call last)",
      "\u001b[1;32mc:\\Users\\vlads\\anaconda3\\envs\\DAT191-gpu_20230411\\lib\\site-packages\\PIL\\Image.py\u001b[0m in \u001b[0;36mfromarray\u001b[1;34m(obj, mode)\u001b[0m\n\u001b[0;32m   2991\u001b[0m         \u001b[1;32mtry\u001b[0m\u001b[1;33m:\u001b[0m\u001b[1;33m\u001b[0m\u001b[1;33m\u001b[0m\u001b[0m\n\u001b[1;32m-> 2992\u001b[1;33m             \u001b[0mmode\u001b[0m\u001b[1;33m,\u001b[0m \u001b[0mrawmode\u001b[0m \u001b[1;33m=\u001b[0m \u001b[0m_fromarray_typemap\u001b[0m\u001b[1;33m[\u001b[0m\u001b[0mtypekey\u001b[0m\u001b[1;33m]\u001b[0m\u001b[1;33m\u001b[0m\u001b[1;33m\u001b[0m\u001b[0m\n\u001b[0m\u001b[0;32m   2993\u001b[0m         \u001b[1;32mexcept\u001b[0m \u001b[0mKeyError\u001b[0m \u001b[1;32mas\u001b[0m \u001b[0me\u001b[0m\u001b[1;33m:\u001b[0m\u001b[1;33m\u001b[0m\u001b[1;33m\u001b[0m\u001b[0m\n",
      "\u001b[1;31mKeyError\u001b[0m: ((1, 1, 50), '|u1')",
      "\nThe above exception was the direct cause of the following exception:\n",
      "\u001b[1;31mTypeError\u001b[0m                                 Traceback (most recent call last)",
      "\u001b[1;32m~\\AppData\\Local\\Temp\\ipykernel_31464\\4159075673.py\u001b[0m in \u001b[0;36m<cell line: 51>\u001b[1;34m()\u001b[0m\n\u001b[0;32m     49\u001b[0m \u001b[1;33m\u001b[0m\u001b[0m\n\u001b[0;32m     50\u001b[0m \u001b[0mnum_images\u001b[0m \u001b[1;33m=\u001b[0m \u001b[1;36m10\u001b[0m\u001b[1;33m\u001b[0m\u001b[1;33m\u001b[0m\u001b[0m\n\u001b[1;32m---> 51\u001b[1;33m \u001b[0mbh_sample_images\u001b[0m\u001b[1;33m,\u001b[0m \u001b[0msph_sample_images\u001b[0m \u001b[1;33m=\u001b[0m \u001b[0mget_sample_images\u001b[0m\u001b[1;33m(\u001b[0m\u001b[0mbhArray\u001b[0m\u001b[1;33m,\u001b[0m \u001b[0msphArray\u001b[0m\u001b[1;33m,\u001b[0m \u001b[0mnum_images\u001b[0m\u001b[1;33m)\u001b[0m\u001b[1;33m\u001b[0m\u001b[1;33m\u001b[0m\u001b[0m\n\u001b[0m\u001b[0;32m     52\u001b[0m \u001b[1;33m\u001b[0m\u001b[0m\n\u001b[0;32m     53\u001b[0m \u001b[0msample_image\u001b[0m \u001b[1;33m=\u001b[0m \u001b[0mbh_sample_images\u001b[0m\u001b[1;33m[\u001b[0m\u001b[1;36m0\u001b[0m\u001b[1;33m]\u001b[0m  \u001b[1;31m# Change the index to display other images\u001b[0m\u001b[1;33m\u001b[0m\u001b[1;33m\u001b[0m\u001b[0m\n",
      "\u001b[1;32m~\\AppData\\Local\\Temp\\ipykernel_31464\\4159075673.py\u001b[0m in \u001b[0;36mget_sample_images\u001b[1;34m(bhArray, sphArray, num_images)\u001b[0m\n\u001b[0;32m     43\u001b[0m     \u001b[0msph_sample\u001b[0m \u001b[1;33m=\u001b[0m \u001b[0msphArray\u001b[0m\u001b[1;33m[\u001b[0m\u001b[0msph_indices\u001b[0m\u001b[1;33m]\u001b[0m\u001b[1;33m\u001b[0m\u001b[1;33m\u001b[0m\u001b[0m\n\u001b[0;32m     44\u001b[0m \u001b[1;33m\u001b[0m\u001b[0m\n\u001b[1;32m---> 45\u001b[1;33m     \u001b[0mbh_images\u001b[0m\u001b[1;33m,\u001b[0m \u001b[0msph_images\u001b[0m \u001b[1;33m=\u001b[0m \u001b[0mload_and_preprocess_images\u001b[0m\u001b[1;33m(\u001b[0m\u001b[0mbh_sample\u001b[0m\u001b[1;33m,\u001b[0m \u001b[0msph_sample\u001b[0m\u001b[1;33m)\u001b[0m\u001b[1;33m\u001b[0m\u001b[1;33m\u001b[0m\u001b[0m\n\u001b[0m\u001b[0;32m     46\u001b[0m \u001b[1;33m\u001b[0m\u001b[0m\n\u001b[0;32m     47\u001b[0m     \u001b[1;32mreturn\u001b[0m \u001b[0mbh_images\u001b[0m\u001b[1;33m,\u001b[0m \u001b[0msph_images\u001b[0m\u001b[1;33m\u001b[0m\u001b[1;33m\u001b[0m\u001b[0m\n",
      "\u001b[1;32m~\\AppData\\Local\\Temp\\ipykernel_31464\\4159075673.py\u001b[0m in \u001b[0;36mload_and_preprocess_images\u001b[1;34m(bhArray, sphArray)\u001b[0m\n\u001b[0;32m     23\u001b[0m         \u001b[1;32mif\u001b[0m \u001b[0mimg\u001b[0m\u001b[1;33m.\u001b[0m\u001b[0mshape\u001b[0m \u001b[1;33m==\u001b[0m \u001b[1;33m(\u001b[0m\u001b[1;36m1\u001b[0m\u001b[1;33m,\u001b[0m \u001b[1;36m1\u001b[0m\u001b[1;33m,\u001b[0m \u001b[1;36m50\u001b[0m\u001b[1;33m)\u001b[0m\u001b[1;33m:\u001b[0m\u001b[1;33m\u001b[0m\u001b[1;33m\u001b[0m\u001b[0m\n\u001b[0;32m     24\u001b[0m             \u001b[0mimg\u001b[0m \u001b[1;33m=\u001b[0m \u001b[0mnp\u001b[0m\u001b[1;33m.\u001b[0m\u001b[0mrepeat\u001b[0m\u001b[1;33m(\u001b[0m\u001b[0mimg\u001b[0m\u001b[1;33m,\u001b[0m \u001b[1;36m3\u001b[0m\u001b[1;33m,\u001b[0m \u001b[0maxis\u001b[0m\u001b[1;33m=\u001b[0m\u001b[1;36m0\u001b[0m\u001b[1;33m)\u001b[0m  \u001b[1;31m# Convert (1, 1, 50) to (3, 1, 50)\u001b[0m\u001b[1;33m\u001b[0m\u001b[1;33m\u001b[0m\u001b[0m\n\u001b[1;32m---> 25\u001b[1;33m         \u001b[0mimage\u001b[0m \u001b[1;33m=\u001b[0m \u001b[0mImage\u001b[0m\u001b[1;33m.\u001b[0m\u001b[0mfromarray\u001b[0m\u001b[1;33m(\u001b[0m\u001b[0mnp\u001b[0m\u001b[1;33m.\u001b[0m\u001b[0muint8\u001b[0m\u001b[1;33m(\u001b[0m\u001b[0mnp\u001b[0m\u001b[1;33m.\u001b[0m\u001b[0mmoveaxis\u001b[0m\u001b[1;33m(\u001b[0m\u001b[0mimg\u001b[0m\u001b[1;33m,\u001b[0m \u001b[1;36m0\u001b[0m\u001b[1;33m,\u001b[0m \u001b[1;33m-\u001b[0m\u001b[1;36m1\u001b[0m\u001b[1;33m)\u001b[0m\u001b[1;33m)\u001b[0m\u001b[1;33m)\u001b[0m  \u001b[1;31m# Convert (C, H, W) to (H, W, C)\u001b[0m\u001b[1;33m\u001b[0m\u001b[1;33m\u001b[0m\u001b[0m\n\u001b[0m\u001b[0;32m     26\u001b[0m         \u001b[0mimage\u001b[0m \u001b[1;33m=\u001b[0m \u001b[0mtransform\u001b[0m\u001b[1;33m(\u001b[0m\u001b[0mimage\u001b[0m\u001b[1;33m)\u001b[0m\u001b[1;33m\u001b[0m\u001b[1;33m\u001b[0m\u001b[0m\n\u001b[0;32m     27\u001b[0m         \u001b[0mbh_images\u001b[0m\u001b[1;33m.\u001b[0m\u001b[0mappend\u001b[0m\u001b[1;33m(\u001b[0m\u001b[0mimage\u001b[0m\u001b[1;33m)\u001b[0m\u001b[1;33m\u001b[0m\u001b[1;33m\u001b[0m\u001b[0m\n",
      "\u001b[1;32mc:\\Users\\vlads\\anaconda3\\envs\\DAT191-gpu_20230411\\lib\\site-packages\\PIL\\Image.py\u001b[0m in \u001b[0;36mfromarray\u001b[1;34m(obj, mode)\u001b[0m\n\u001b[0;32m   2992\u001b[0m             \u001b[0mmode\u001b[0m\u001b[1;33m,\u001b[0m \u001b[0mrawmode\u001b[0m \u001b[1;33m=\u001b[0m \u001b[0m_fromarray_typemap\u001b[0m\u001b[1;33m[\u001b[0m\u001b[0mtypekey\u001b[0m\u001b[1;33m]\u001b[0m\u001b[1;33m\u001b[0m\u001b[1;33m\u001b[0m\u001b[0m\n\u001b[0;32m   2993\u001b[0m         \u001b[1;32mexcept\u001b[0m \u001b[0mKeyError\u001b[0m \u001b[1;32mas\u001b[0m \u001b[0me\u001b[0m\u001b[1;33m:\u001b[0m\u001b[1;33m\u001b[0m\u001b[1;33m\u001b[0m\u001b[0m\n\u001b[1;32m-> 2994\u001b[1;33m             \u001b[1;32mraise\u001b[0m \u001b[0mTypeError\u001b[0m\u001b[1;33m(\u001b[0m\u001b[1;34m\"Cannot handle this data type: %s, %s\"\u001b[0m \u001b[1;33m%\u001b[0m \u001b[0mtypekey\u001b[0m\u001b[1;33m)\u001b[0m \u001b[1;32mfrom\u001b[0m \u001b[0me\u001b[0m\u001b[1;33m\u001b[0m\u001b[1;33m\u001b[0m\u001b[0m\n\u001b[0m\u001b[0;32m   2995\u001b[0m     \u001b[1;32melse\u001b[0m\u001b[1;33m:\u001b[0m\u001b[1;33m\u001b[0m\u001b[1;33m\u001b[0m\u001b[0m\n\u001b[0;32m   2996\u001b[0m         \u001b[0mrawmode\u001b[0m \u001b[1;33m=\u001b[0m \u001b[0mmode\u001b[0m\u001b[1;33m\u001b[0m\u001b[1;33m\u001b[0m\u001b[0m\n",
      "\u001b[1;31mTypeError\u001b[0m: Cannot handle this data type: (1, 1, 50), |u1"
     ]
    }
   ],
   "source": [
    "def preprocess_images(images):\n",
    "    processed_images = []\n",
    "    for img in images:\n",
    "        reshaped_image = img.reshape(3, 50, 50)\n",
    "        image = Image.fromarray(np.uint8(reshaped_image.transpose(1, 2, 0) * 255))\n",
    "        image = np.array(image.resize((50, 50)))\n",
    "        image = np.moveaxis(image, -1, 0)\n",
    "        processed_images.append(image)\n",
    "    return processed_images\n",
    "\n",
    "# Define the same transformations as used in training\n",
    "transform = transforms.Compose([\n",
    "    transforms.Resize((50, 50)),\n",
    "    transforms.ToTensor(),\n",
    "    transforms.Normalize(mean=[0.485, 0.456, 0.406],\n",
    "                         std=[0.229, 0.224, 0.225])\n",
    "])\n",
    "\n",
    "def load_and_preprocess_images(bhArray, sphArray):\n",
    "    bh_images = []\n",
    "    sph_images = []\n",
    "    for img in bhArray:\n",
    "        image = Image.fromarray(np.uint8(np.moveaxis(img, 0, -1)))  # Convert (C, H, W) to (H, W, C)\n",
    "        image = transform(image)\n",
    "        bh_images.append(image)\n",
    "    for img in sphArray:\n",
    "        image = Image.fromarray(np.uint8(np.moveaxis(img, 0, -1)))  # Convert (C, H, W) to (H, W, C)\n",
    "        image = transform(image)\n",
    "        sph_images.append(image)\n",
    "    return bh_images, sph_images\n",
    "\n",
    "def get_sample_images(bhArray, sphArray, num_images):\n",
    "    np.random.seed(42)\n",
    "    bh_indices = np.random.choice(len(bhArray), num_images, replace=False)\n",
    "    sph_indices = np.random.choice(len(sphArray), num_images, replace=False)\n",
    "\n",
    "    bh_sample = bhArray[bh_indices]\n",
    "    sph_sample = sphArray[sph_indices]\n",
    "\n",
    "    bh_images, sph_images = load_and_preprocess_images(bh_sample, sph_sample)\n",
    "\n",
    "    return bh_images, sph_images\n",
    "\n",
    "\n",
    "num_images = 10\n",
    "bh_sample_images, sph_sample_images = get_sample_images(bhArray, sphArray, num_images)\n",
    "\n",
    "sample_image = bh_sample_images[0]  # Change the index to display other images\n",
    "print(sample_image.shape)\n",
    "Image.fromarray(np.uint8(sample_image).transpose(1, 2, 0))\n",
    "\n",
    "# Call the save_images function to save the images\n",
    "save_images(bh_sample_images, sph_sample_images)\n"
   ]
  }
 ],
 "metadata": {
  "kernelspec": {
   "display_name": "DAT191-gpu_20230411",
   "language": "python",
   "name": "python3"
  },
  "language_info": {
   "codemirror_mode": {
    "name": "ipython",
    "version": 3
   },
   "file_extension": ".py",
   "mimetype": "text/x-python",
   "name": "python",
   "nbconvert_exporter": "python",
   "pygments_lexer": "ipython3",
   "version": "3.9.16"
  },
  "orig_nbformat": 4
 },
 "nbformat": 4,
 "nbformat_minor": 2
}
